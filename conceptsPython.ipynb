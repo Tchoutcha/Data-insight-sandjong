{
 "cells": [
  {
   "cell_type": "markdown",
   "id": "711e0b71",
   "metadata": {},
   "source": [
    "# Manipulation  des tableaux avec avec la bibliotheque numpy :\n",
    "\n",
    "#  - Concatenate \n",
    "#  -  hstack \n",
    "#  - vstack \n",
    "#  - Reshape \n",
    "# - Squeeze \n",
    "# - Ravel"
   ]
  },
  {
   "cell_type": "code",
   "execution_count": 3,
   "id": "8d0c594d",
   "metadata": {},
   "outputs": [],
   "source": [
    "import numpy as np"
   ]
  },
  {
   "cell_type": "code",
   "execution_count": 7,
   "id": "8c571ea3",
   "metadata": {},
   "outputs": [],
   "source": [
    "A = np.zeros((4,3)) # on cree un tableau de 0 de dimension (4,3)\n",
    "B = np.ones((4,3))   # on cree un tableau de 1 dimension (4,3) "
   ]
  },
  {
   "cell_type": "code",
   "execution_count": 8,
   "id": "ee87b024",
   "metadata": {},
   "outputs": [
    {
     "name": "stdout",
     "output_type": "stream",
     "text": [
      "[[0. 0. 0.]\n",
      " [0. 0. 0.]\n",
      " [0. 0. 0.]\n",
      " [0. 0. 0.]]\n"
     ]
    }
   ],
   "source": [
    "print(A)"
   ]
  },
  {
   "cell_type": "code",
   "execution_count": 9,
   "id": "cb689b98",
   "metadata": {},
   "outputs": [
    {
     "name": "stdout",
     "output_type": "stream",
     "text": [
      "[[1. 1. 1.]\n",
      " [1. 1. 1.]\n",
      " [1. 1. 1.]\n",
      " [1. 1. 1.]]\n"
     ]
    }
   ],
   "source": [
    "print(B)"
   ]
  },
  {
   "cell_type": "markdown",
   "id": "c508717f",
   "metadata": {},
   "source": [
    "#  hstack  \n",
    "on va assembler ces deux tableaux\n",
    "de facon horizontale "
   ]
  },
  {
   "cell_type": "code",
   "execution_count": 14,
   "id": "e67940a4",
   "metadata": {},
   "outputs": [],
   "source": [
    "c = np.hstack((A,B))"
   ]
  },
  {
   "cell_type": "code",
   "execution_count": 15,
   "id": "cc4be0e1",
   "metadata": {},
   "outputs": [
    {
     "name": "stdout",
     "output_type": "stream",
     "text": [
      "[[0. 0. 0. 1. 1. 1.]\n",
      " [0. 0. 0. 1. 1. 1.]\n",
      " [0. 0. 0. 1. 1. 1.]\n",
      " [0. 0. 0. 1. 1. 1.]]\n"
     ]
    }
   ],
   "source": [
    "print(c)"
   ]
  },
  {
   "cell_type": "code",
   "execution_count": 16,
   "id": "dfc6d4a8",
   "metadata": {},
   "outputs": [
    {
     "data": {
      "text/plain": [
       "(4, 6)"
      ]
     },
     "execution_count": 16,
     "metadata": {},
     "output_type": "execute_result"
    }
   ],
   "source": [
    "c.shape"
   ]
  },
  {
   "cell_type": "markdown",
   "id": "d1748b17",
   "metadata": {},
   "source": [
    "#  vstack \n",
    "on va assembler ces deux tableaux\n",
    "de facon verticale "
   ]
  },
  {
   "cell_type": "code",
   "execution_count": 17,
   "id": "7b4f959d",
   "metadata": {},
   "outputs": [],
   "source": [
    "d = np.vstack((A,B))"
   ]
  },
  {
   "cell_type": "code",
   "execution_count": 18,
   "id": "37dfd7de",
   "metadata": {},
   "outputs": [
    {
     "name": "stdout",
     "output_type": "stream",
     "text": [
      "[[0. 0. 0.]\n",
      " [0. 0. 0.]\n",
      " [0. 0. 0.]\n",
      " [0. 0. 0.]\n",
      " [1. 1. 1.]\n",
      " [1. 1. 1.]\n",
      " [1. 1. 1.]\n",
      " [1. 1. 1.]]\n"
     ]
    }
   ],
   "source": [
    "print(d)"
   ]
  },
  {
   "cell_type": "code",
   "execution_count": 19,
   "id": "65df303c",
   "metadata": {},
   "outputs": [
    {
     "data": {
      "text/plain": [
       "(8, 3)"
      ]
     },
     "execution_count": 19,
     "metadata": {},
     "output_type": "execute_result"
    }
   ],
   "source": [
    "d.shape"
   ]
  },
  {
   "cell_type": "markdown",
   "id": "1571874a",
   "metadata": {},
   "source": [
    "# Concatenate"
   ]
  },
  {
   "cell_type": "markdown",
   "id": "38518618",
   "metadata": {},
   "source": [
    "elle permet d'assembler deux tableaux tout fois en laissant le choix de l'axe dans laquelle l'assemblage va s'effectuer"
   ]
  },
  {
   "cell_type": "code",
   "execution_count": 22,
   "id": "27169858",
   "metadata": {},
   "outputs": [],
   "source": [
    "e = np.concatenate((A,B) , axis = 0) ## axis = 0 pour l'axe verticale"
   ]
  },
  {
   "cell_type": "code",
   "execution_count": 23,
   "id": "c94f7e4a",
   "metadata": {},
   "outputs": [
    {
     "name": "stdout",
     "output_type": "stream",
     "text": [
      "[[0. 0. 0.]\n",
      " [0. 0. 0.]\n",
      " [0. 0. 0.]\n",
      " [0. 0. 0.]\n",
      " [1. 1. 1.]\n",
      " [1. 1. 1.]\n",
      " [1. 1. 1.]\n",
      " [1. 1. 1.]]\n"
     ]
    }
   ],
   "source": [
    "print(e)"
   ]
  },
  {
   "cell_type": "code",
   "execution_count": 44,
   "id": "84c89a5e",
   "metadata": {},
   "outputs": [],
   "source": [
    "f = np.concatenate((A,B) , axis = 1) ## axis =1 pour l'axe horizontale"
   ]
  },
  {
   "cell_type": "code",
   "execution_count": 25,
   "id": "19f8fa33",
   "metadata": {},
   "outputs": [
    {
     "name": "stdout",
     "output_type": "stream",
     "text": [
      "[[0. 0. 0. 1. 1. 1.]\n",
      " [0. 0. 0. 1. 1. 1.]\n",
      " [0. 0. 0. 1. 1. 1.]\n",
      " [0. 0. 0. 1. 1. 1.]]\n"
     ]
    }
   ],
   "source": [
    "print(f)"
   ]
  },
  {
   "cell_type": "markdown",
   "id": "5817aaec",
   "metadata": {},
   "source": [
    "#  reshape"
   ]
  },
  {
   "cell_type": "markdown",
   "id": "717a920c",
   "metadata": {},
   "source": [
    "elle  permet de remanipuler la forme d'un tableau pour lui donner une nouvelle forme\n"
   ]
  },
  {
   "cell_type": "code",
   "execution_count": 32,
   "id": "3d6cd1df",
   "metadata": {},
   "outputs": [
    {
     "name": "stdout",
     "output_type": "stream",
     "text": [
      "(4, 6)\n"
     ]
    }
   ],
   "source": [
    "print(f.shape)"
   ]
  },
  {
   "cell_type": "code",
   "execution_count": 36,
   "id": "85cf2c48",
   "metadata": {},
   "outputs": [
    {
     "data": {
      "text/plain": [
       "array([[0., 0., 0., 1.],\n",
       "       [1., 1., 0., 0.],\n",
       "       [0., 1., 1., 1.],\n",
       "       [0., 0., 0., 1.],\n",
       "       [1., 1., 0., 0.],\n",
       "       [0., 1., 1., 1.]])"
      ]
     },
     "execution_count": 36,
     "metadata": {},
     "output_type": "execute_result"
    }
   ],
   "source": [
    "ff = f.reshape( 6,4)\n",
    "ff"
   ]
  },
  {
   "cell_type": "code",
   "execution_count": 35,
   "id": "4bd0c84d",
   "metadata": {},
   "outputs": [
    {
     "name": "stdout",
     "output_type": "stream",
     "text": [
      "(6, 4)\n"
     ]
    }
   ],
   "source": [
    "print(ff.shape)"
   ]
  },
  {
   "cell_type": "markdown",
   "id": "5fa3fdc4",
   "metadata": {},
   "source": [
    "# Ravel"
   ]
  },
  {
   "cell_type": "markdown",
   "id": "84141fad",
   "metadata": {},
   "source": [
    "elle permet d'aplatir un tableau a  une seule dimension"
   ]
  },
  {
   "cell_type": "code",
   "execution_count": 37,
   "id": "1ce6e07d",
   "metadata": {},
   "outputs": [
    {
     "data": {
      "text/plain": [
       "array([0., 0., 0., 1., 1., 1., 0., 0., 0., 1., 1., 1., 0., 0., 0., 1., 1.,\n",
       "       1., 0., 0., 0., 1., 1., 1.])"
      ]
     },
     "execution_count": 37,
     "metadata": {},
     "output_type": "execute_result"
    }
   ],
   "source": [
    "f.ravel()"
   ]
  },
  {
   "cell_type": "code",
   "execution_count": 38,
   "id": "f302a513",
   "metadata": {},
   "outputs": [
    {
     "data": {
      "text/plain": [
       "(24,)"
      ]
     },
     "execution_count": 38,
     "metadata": {},
     "output_type": "execute_result"
    }
   ],
   "source": [
    "f.ravel().shape  # verification"
   ]
  },
  {
   "cell_type": "markdown",
   "id": "0a3e9fb5",
   "metadata": {},
   "source": [
    "# Squeeze"
   ]
  },
  {
   "cell_type": "markdown",
   "id": "fec67226",
   "metadata": {},
   "source": [
    "elle a  pour effet de faire disparaitre les dimensions dans lequel on a seulement 1"
   ]
  },
  {
   "cell_type": "code",
   "execution_count": 42,
   "id": "365f698e",
   "metadata": {},
   "outputs": [
    {
     "data": {
      "text/plain": [
       "array([1., 1., 1.])"
      ]
     },
     "execution_count": 42,
     "metadata": {},
     "output_type": "execute_result"
    }
   ],
   "source": [
    "d = np.ones((3,1))\n",
    "d.squeeze()"
   ]
  },
  {
   "cell_type": "code",
   "execution_count": 43,
   "id": "625e0cdc",
   "metadata": {},
   "outputs": [
    {
     "data": {
      "text/plain": [
       "(3,)"
      ]
     },
     "execution_count": 43,
     "metadata": {},
     "output_type": "execute_result"
    }
   ],
   "source": [
    "d.squeeze().shape"
   ]
  },
  {
   "cell_type": "code",
   "execution_count": null,
   "id": "75a3b731",
   "metadata": {},
   "outputs": [],
   "source": []
  }
 ],
 "metadata": {
  "kernelspec": {
   "display_name": "Python 3",
   "language": "python",
   "name": "python3"
  },
  "language_info": {
   "codemirror_mode": {
    "name": "ipython",
    "version": 3
   },
   "file_extension": ".py",
   "mimetype": "text/x-python",
   "name": "python",
   "nbconvert_exporter": "python",
   "pygments_lexer": "ipython3",
   "version": "3.8.8"
  }
 },
 "nbformat": 4,
 "nbformat_minor": 5
}
