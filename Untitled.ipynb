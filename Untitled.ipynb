{
 "cells": [
  {
   "cell_type": "code",
   "execution_count": 1,
   "id": "da0b070e",
   "metadata": {},
   "outputs": [
    {
     "name": "stdout",
     "output_type": "stream",
     "text": [
      "Entrez une mot à inverser :papa\n",
      "apap\n"
     ]
    }
   ],
   "source": [
    "def inverse(text):\n",
    "   \n",
    "    index=len(text)-1 #variable qui contient la longuer exacte du mot\n",
    "    res=\"\" #variable qui permettra de ne pas espacer le mot inversé\n",
    "    \n",
    "    \n",
    "    while index>=0:\n",
    "        res=res+text[index] #variable qui contient le mot inversé\n",
    "        index=index-1\n",
    "        \n",
    "    print(res)#impression du mot inversé\n",
    "text=input(\"Entrez une mot à inverser :\")  #variable qui contient le mot \n",
    "inverse(text)"
   ]
  },
  {
   "cell_type": "code",
   "execution_count": null,
   "id": "74e30c14",
   "metadata": {},
   "outputs": [],
   "source": []
  }
 ],
 "metadata": {
  "kernelspec": {
   "display_name": "Python 3",
   "language": "python",
   "name": "python3"
  },
  "language_info": {
   "codemirror_mode": {
    "name": "ipython",
    "version": 3
   },
   "file_extension": ".py",
   "mimetype": "text/x-python",
   "name": "python",
   "nbconvert_exporter": "python",
   "pygments_lexer": "ipython3",
   "version": "3.8.8"
  }
 },
 "nbformat": 4,
 "nbformat_minor": 5
}
