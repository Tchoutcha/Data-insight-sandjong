{
 "cells": [
  {
   "cell_type": "markdown",
   "id": "c6226d3e",
   "metadata": {},
   "source": [
    "# Techniques utiles de manipulation de donnees avec la librairie Pandas"
   ]
  },
  {
   "cell_type": "markdown",
   "id": "350999c5",
   "metadata": {},
   "source": [
    "Concatenating objects\n",
    "\n",
    "The concat() function (in the main pandas namespace) does all of the heavy lifting of performing concatenation operations along an axis while performing optional set logic (union or intersection) of the indexes (if any) on the other axes. Note that I say “if any” because there is only a single possible axis of concatenation for Series.\n",
    "\n",
    "Suppose you have multiple dataframes with the same fields and you want to combine them into one along the row axis. Or, if you have additional fields for your current data that you wanted to add, you can concatenate them along the axis of the columns. we will see how to concatenate two or more dataframes with Pandas\n",
    "\n"
   ]
  },
  {
   "cell_type": "code",
   "execution_count": 2,
   "id": "60e45403",
   "metadata": {},
   "outputs": [],
   "source": [
    "#je vais commencer par importer le module pandas \n",
    "\n",
    "import pandas as pd\n"
   ]
  },
  {
   "cell_type": "code",
   "execution_count": 3,
   "id": "bcc4c951",
   "metadata": {},
   "outputs": [
    {
     "name": "stdout",
     "output_type": "stream",
     "text": [
      "DataFrame df1 :\n",
      "\n",
      "        Nom  Age\n",
      "0  stephane   25\n",
      "1     Dilan   28\n",
      "\n",
      "DataFrame df2 :\n",
      "      Nom  Age\n",
      "0  Sylvie   35\n",
      "1     Luc   50\n",
      "\n",
      " Resultat de la concatenation \n",
      "\n",
      "        Nom  Age\n",
      "0  stephane   25\n",
      "1     Dilan   28\n",
      "0    Sylvie   35\n",
      "1       Luc   50\n"
     ]
    }
   ],
   "source": [
    "# concatenation verticale\n",
    "\n",
    "#creation de deux DataFrames\n",
    "df1 = pd.DataFrame({'Nom':['stephane','Dilan'],'Age' : [25,28]})\n",
    "df2 = pd.DataFrame({'Nom':['Sylvie','Luc'],'Age' : [35,50]})\n",
    "\n",
    "#affichage des dataframes\n",
    "print(\"DataFrame df1 :\\n\")\n",
    "print(df1)\n",
    "print(\"\\nDataFrame df2 :\")\n",
    "print(df2)\n",
    "\n",
    "#concatenation verticale des dataFrames \n",
    "df_concat = pd.concat([df1,df2])\n",
    "#affichage du resultat\n",
    "print(\"\\n Resultat de la concatenation \\n\")\n",
    "print(df_concat)"
   ]
  },
  {
   "cell_type": "code",
   "execution_count": 5,
   "id": "6dea93c9",
   "metadata": {},
   "outputs": [
    {
     "name": "stdout",
     "output_type": "stream",
     "text": [
      "\n",
      " Resultat de la concatenation \n",
      "\n",
      "        Nom  Age     Nom  Age\n",
      "0  stephane   25  Sylvie   35\n",
      "1     Dilan   28     Luc   50\n"
     ]
    }
   ],
   "source": [
    "#concatenation horizontale des dataFrames \n",
    "df_concat = pd.concat([df1,df2] , axis = 1)\n",
    "#affichage du resultat\n",
    "print(\"\\n Resultat de la concatenation \\n\")\n",
    "print(df_concat)"
   ]
  },
  {
   "cell_type": "code",
   "execution_count": null,
   "id": "a6944279",
   "metadata": {},
   "outputs": [],
   "source": []
  }
 ],
 "metadata": {
  "kernelspec": {
   "display_name": "Python 3",
   "language": "python",
   "name": "python3"
  },
  "language_info": {
   "codemirror_mode": {
    "name": "ipython",
    "version": 3
   },
   "file_extension": ".py",
   "mimetype": "text/x-python",
   "name": "python",
   "nbconvert_exporter": "python",
   "pygments_lexer": "ipython3",
   "version": "3.8.8"
  }
 },
 "nbformat": 4,
 "nbformat_minor": 5
}
