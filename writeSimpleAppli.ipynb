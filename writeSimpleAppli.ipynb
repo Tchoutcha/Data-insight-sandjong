{
 "cells": [
  {
   "cell_type": "code",
   "execution_count": 1,
   "id": "a6cf8ca1",
   "metadata": {},
   "outputs": [
    {
     "name": "stdout",
     "output_type": "stream",
     "text": [
      "entrer un mot ou une expression de votre choix :\n",
      "mot\n",
      "\n",
      " les occurrences de caractères presents \n"
     ]
    },
    {
     "data": {
      "text/plain": [
       "defaultdict(int, {'m': 1, 'o': 1, 't': 1})"
      ]
     },
     "execution_count": 1,
     "metadata": {},
     "output_type": "execute_result"
    }
   ],
   "source": [
    "def occurence_caratere (text):\n",
    "    from collections import defaultdict\n",
    "    \n",
    "    print(\"\\n les occurrences de caractères presents \")\n",
    "    \n",
    "    chars = defaultdict(int)\n",
    "    for char in text:\n",
    "        chars[char] += 1\n",
    "        \n",
    "    return chars    \n",
    "\n",
    "text = input (\"entrer un mot ou une expression de votre choix :\\n\") #variable qui contient le mot ou la phrase donne\n",
    "occurence_caratere(text )"
   ]
  },
  {
   "cell_type": "code",
   "execution_count": null,
   "id": "0f58f05f",
   "metadata": {},
   "outputs": [],
   "source": []
  }
 ],
 "metadata": {
  "kernelspec": {
   "display_name": "Python 3",
   "language": "python",
   "name": "python3"
  },
  "language_info": {
   "codemirror_mode": {
    "name": "ipython",
    "version": 3
   },
   "file_extension": ".py",
   "mimetype": "text/x-python",
   "name": "python",
   "nbconvert_exporter": "python",
   "pygments_lexer": "ipython3",
   "version": "3.8.8"
  }
 },
 "nbformat": 4,
 "nbformat_minor": 5
}
